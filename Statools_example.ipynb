{
  "nbformat": 4,
  "nbformat_minor": 0,
  "metadata": {
    "colab": {
      "name": "Statools example.ipynb",
      "provenance": [],
      "toc_visible": true
    },
    "kernelspec": {
      "name": "python3",
      "display_name": "Python 3"
    }
  },
  "cells": [
    {
      "cell_type": "code",
      "metadata": {
        "id": "O4a_dsxelJKw",
        "colab_type": "code",
        "colab": {
          "base_uri": "https://localhost:8080/",
          "height": 50
        },
        "outputId": "9475cdc8-34e1-4efa-b50c-9e5edd7976d7"
      },
      "source": [
        "!pip install -i https://test.pypi.org/simple/ lambdata-karen==0.1.1"
      ],
      "execution_count": 1,
      "outputs": [
        {
          "output_type": "stream",
          "text": [
            "Looking in indexes: https://test.pypi.org/simple/\n",
            "Requirement already satisfied: lambdata-karen==0.1.1 in /usr/local/lib/python3.6/dist-packages (0.1.1)\n"
          ],
          "name": "stdout"
        }
      ]
    },
    {
      "cell_type": "code",
      "metadata": {
        "id": "J3WPD5nolMVR",
        "colab_type": "code",
        "colab": {}
      },
      "source": [
        "import statools.tools as st"
      ],
      "execution_count": 2,
      "outputs": []
    },
    {
      "cell_type": "markdown",
      "metadata": {
        "id": "B3delMtEmuer",
        "colab_type": "text"
      },
      "source": [
        "### Instantiate the object"
      ]
    },
    {
      "cell_type": "code",
      "metadata": {
        "id": "phULThwtlUC1",
        "colab_type": "code",
        "colab": {}
      },
      "source": [
        "sales = [3505, 2400, 3027, 2798, 3700, 3250, 2689]\n",
        "customers = [127, 80, 105, 92, 120, 115, 93]\n",
        "\n",
        "data = st.DataSet([sales, customers], ['sales', 'customers'])"
      ],
      "execution_count": 3,
      "outputs": []
    },
    {
      "cell_type": "markdown",
      "metadata": {
        "id": "p3Y519jVmAht",
        "colab_type": "text"
      },
      "source": [
        "### Convert into Pandas DataFrame"
      ]
    },
    {
      "cell_type": "code",
      "metadata": {
        "id": "sgpWUuR4l0nx",
        "colab_type": "code",
        "colab": {
          "base_uri": "https://localhost:8080/",
          "height": 248
        },
        "outputId": "867cc5cb-9775-45c5-f657-8e67294dcc4a"
      },
      "source": [
        "\n",
        "data.get_dataframe()"
      ],
      "execution_count": 4,
      "outputs": [
        {
          "output_type": "execute_result",
          "data": {
            "text/html": [
              "<div>\n",
              "<style scoped>\n",
              "    .dataframe tbody tr th:only-of-type {\n",
              "        vertical-align: middle;\n",
              "    }\n",
              "\n",
              "    .dataframe tbody tr th {\n",
              "        vertical-align: top;\n",
              "    }\n",
              "\n",
              "    .dataframe thead th {\n",
              "        text-align: right;\n",
              "    }\n",
              "</style>\n",
              "<table border=\"1\" class=\"dataframe\">\n",
              "  <thead>\n",
              "    <tr style=\"text-align: right;\">\n",
              "      <th></th>\n",
              "      <th>sales</th>\n",
              "      <th>customers</th>\n",
              "    </tr>\n",
              "  </thead>\n",
              "  <tbody>\n",
              "    <tr>\n",
              "      <th>0</th>\n",
              "      <td>3505</td>\n",
              "      <td>127</td>\n",
              "    </tr>\n",
              "    <tr>\n",
              "      <th>1</th>\n",
              "      <td>2400</td>\n",
              "      <td>80</td>\n",
              "    </tr>\n",
              "    <tr>\n",
              "      <th>2</th>\n",
              "      <td>3027</td>\n",
              "      <td>105</td>\n",
              "    </tr>\n",
              "    <tr>\n",
              "      <th>3</th>\n",
              "      <td>2798</td>\n",
              "      <td>92</td>\n",
              "    </tr>\n",
              "    <tr>\n",
              "      <th>4</th>\n",
              "      <td>3700</td>\n",
              "      <td>120</td>\n",
              "    </tr>\n",
              "    <tr>\n",
              "      <th>5</th>\n",
              "      <td>3250</td>\n",
              "      <td>115</td>\n",
              "    </tr>\n",
              "    <tr>\n",
              "      <th>6</th>\n",
              "      <td>2689</td>\n",
              "      <td>93</td>\n",
              "    </tr>\n",
              "  </tbody>\n",
              "</table>\n",
              "</div>"
            ],
            "text/plain": [
              "   sales  customers\n",
              "0   3505        127\n",
              "1   2400         80\n",
              "2   3027        105\n",
              "3   2798         92\n",
              "4   3700        120\n",
              "5   3250        115\n",
              "6   2689         93"
            ]
          },
          "metadata": {
            "tags": []
          },
          "execution_count": 4
        }
      ]
    },
    {
      "cell_type": "markdown",
      "metadata": {
        "id": "f5DyCugCmHDF",
        "colab_type": "text"
      },
      "source": [
        "### Get basic statistics on the data"
      ]
    },
    {
      "cell_type": "code",
      "metadata": {
        "id": "-GnPRcFSlw6W",
        "colab_type": "code",
        "colab": {
          "base_uri": "https://localhost:8080/",
          "height": 105
        },
        "outputId": "d3e3909f-589b-4aa8-e7d3-9304011db447"
      },
      "source": [
        "data.statistics()"
      ],
      "execution_count": 5,
      "outputs": [
        {
          "output_type": "execute_result",
          "data": {
            "text/html": [
              "<div>\n",
              "<style scoped>\n",
              "    .dataframe tbody tr th:only-of-type {\n",
              "        vertical-align: middle;\n",
              "    }\n",
              "\n",
              "    .dataframe tbody tr th {\n",
              "        vertical-align: top;\n",
              "    }\n",
              "\n",
              "    .dataframe thead th {\n",
              "        text-align: right;\n",
              "    }\n",
              "</style>\n",
              "<table border=\"1\" class=\"dataframe\">\n",
              "  <thead>\n",
              "    <tr style=\"text-align: right;\">\n",
              "      <th></th>\n",
              "      <th>mean</th>\n",
              "      <th>variance</th>\n",
              "      <th>standard_deviation</th>\n",
              "    </tr>\n",
              "  </thead>\n",
              "  <tbody>\n",
              "    <tr>\n",
              "      <th>sales</th>\n",
              "      <td>3052.714286</td>\n",
              "      <td>214387.904762</td>\n",
              "      <td>463.020415</td>\n",
              "    </tr>\n",
              "    <tr>\n",
              "      <th>customers</th>\n",
              "      <td>104.571429</td>\n",
              "      <td>290.952381</td>\n",
              "      <td>17.057326</td>\n",
              "    </tr>\n",
              "  </tbody>\n",
              "</table>\n",
              "</div>"
            ],
            "text/plain": [
              "                  mean       variance  standard_deviation\n",
              "sales      3052.714286  214387.904762          463.020415\n",
              "customers   104.571429     290.952381           17.057326"
            ]
          },
          "metadata": {
            "tags": []
          },
          "execution_count": 5
        }
      ]
    },
    {
      "cell_type": "markdown",
      "metadata": {
        "id": "NZBbGqsCmTbc",
        "colab_type": "text"
      },
      "source": [
        "### Get variance/covariance matrix"
      ]
    },
    {
      "cell_type": "code",
      "metadata": {
        "id": "dvOXe2-el5bM",
        "colab_type": "code",
        "colab": {
          "base_uri": "https://localhost:8080/",
          "height": 105
        },
        "outputId": "336a8422-3fdd-427f-f082-fc341958a594"
      },
      "source": [
        "data.covariance()"
      ],
      "execution_count": 6,
      "outputs": [
        {
          "output_type": "execute_result",
          "data": {
            "text/html": [
              "<div>\n",
              "<style scoped>\n",
              "    .dataframe tbody tr th:only-of-type {\n",
              "        vertical-align: middle;\n",
              "    }\n",
              "\n",
              "    .dataframe tbody tr th {\n",
              "        vertical-align: top;\n",
              "    }\n",
              "\n",
              "    .dataframe thead th {\n",
              "        text-align: right;\n",
              "    }\n",
              "</style>\n",
              "<table border=\"1\" class=\"dataframe\">\n",
              "  <thead>\n",
              "    <tr style=\"text-align: right;\">\n",
              "      <th></th>\n",
              "      <th>sales</th>\n",
              "      <th>customers</th>\n",
              "    </tr>\n",
              "  </thead>\n",
              "  <tbody>\n",
              "    <tr>\n",
              "      <th>sales</th>\n",
              "      <td>214387.904762</td>\n",
              "      <td>7604.357143</td>\n",
              "    </tr>\n",
              "    <tr>\n",
              "      <th>customers</th>\n",
              "      <td>7604.357143</td>\n",
              "      <td>290.952381</td>\n",
              "    </tr>\n",
              "  </tbody>\n",
              "</table>\n",
              "</div>"
            ],
            "text/plain": [
              "                   sales    customers\n",
              "sales      214387.904762  7604.357143\n",
              "customers    7604.357143   290.952381"
            ]
          },
          "metadata": {
            "tags": []
          },
          "execution_count": 6
        }
      ]
    },
    {
      "cell_type": "markdown",
      "metadata": {
        "id": "X6b8i_4HmeJD",
        "colab_type": "text"
      },
      "source": [
        "### Get correlation matrix"
      ]
    },
    {
      "cell_type": "code",
      "metadata": {
        "id": "Ze1hdbnXmchR",
        "colab_type": "code",
        "colab": {
          "base_uri": "https://localhost:8080/",
          "height": 105
        },
        "outputId": "af316c5a-a196-4173-fa49-967cea384c73"
      },
      "source": [
        "data.correlation()"
      ],
      "execution_count": 7,
      "outputs": [
        {
          "output_type": "execute_result",
          "data": {
            "text/html": [
              "<div>\n",
              "<style scoped>\n",
              "    .dataframe tbody tr th:only-of-type {\n",
              "        vertical-align: middle;\n",
              "    }\n",
              "\n",
              "    .dataframe tbody tr th {\n",
              "        vertical-align: top;\n",
              "    }\n",
              "\n",
              "    .dataframe thead th {\n",
              "        text-align: right;\n",
              "    }\n",
              "</style>\n",
              "<table border=\"1\" class=\"dataframe\">\n",
              "  <thead>\n",
              "    <tr style=\"text-align: right;\">\n",
              "      <th></th>\n",
              "      <th>sales</th>\n",
              "      <th>customers</th>\n",
              "    </tr>\n",
              "  </thead>\n",
              "  <tbody>\n",
              "    <tr>\n",
              "      <th>sales</th>\n",
              "      <td>1.000000</td>\n",
              "      <td>0.962834</td>\n",
              "    </tr>\n",
              "    <tr>\n",
              "      <th>customers</th>\n",
              "      <td>0.962834</td>\n",
              "      <td>1.000000</td>\n",
              "    </tr>\n",
              "  </tbody>\n",
              "</table>\n",
              "</div>"
            ],
            "text/plain": [
              "              sales  customers\n",
              "sales      1.000000   0.962834\n",
              "customers  0.962834   1.000000"
            ]
          },
          "metadata": {
            "tags": []
          },
          "execution_count": 7
        }
      ]
    },
    {
      "cell_type": "markdown",
      "metadata": {
        "id": "7jaPpdWZprN9",
        "colab_type": "text"
      },
      "source": [
        "### Test some real world data. "
      ]
    },
    {
      "cell_type": "code",
      "metadata": {
        "id": "SCgyfHpdmji0",
        "colab_type": "code",
        "colab": {}
      },
      "source": [
        "import pandas as pd"
      ],
      "execution_count": 8,
      "outputs": []
    },
    {
      "cell_type": "code",
      "metadata": {
        "id": "PhF1joR4nNS4",
        "colab_type": "code",
        "colab": {}
      },
      "source": [
        "df = pd.read_csv('sample_data/california_housing_test.csv')"
      ],
      "execution_count": 9,
      "outputs": []
    },
    {
      "cell_type": "code",
      "metadata": {
        "id": "-LTkenNtnWpF",
        "colab_type": "code",
        "colab": {
          "base_uri": "https://localhost:8080/",
          "height": 191
        },
        "outputId": "600d1cca-98ab-46ea-aaca-d96757b4208e"
      },
      "source": [
        "df.head()\n"
      ],
      "execution_count": 10,
      "outputs": [
        {
          "output_type": "execute_result",
          "data": {
            "text/html": [
              "<div>\n",
              "<style scoped>\n",
              "    .dataframe tbody tr th:only-of-type {\n",
              "        vertical-align: middle;\n",
              "    }\n",
              "\n",
              "    .dataframe tbody tr th {\n",
              "        vertical-align: top;\n",
              "    }\n",
              "\n",
              "    .dataframe thead th {\n",
              "        text-align: right;\n",
              "    }\n",
              "</style>\n",
              "<table border=\"1\" class=\"dataframe\">\n",
              "  <thead>\n",
              "    <tr style=\"text-align: right;\">\n",
              "      <th></th>\n",
              "      <th>longitude</th>\n",
              "      <th>latitude</th>\n",
              "      <th>housing_median_age</th>\n",
              "      <th>total_rooms</th>\n",
              "      <th>total_bedrooms</th>\n",
              "      <th>population</th>\n",
              "      <th>households</th>\n",
              "      <th>median_income</th>\n",
              "      <th>median_house_value</th>\n",
              "    </tr>\n",
              "  </thead>\n",
              "  <tbody>\n",
              "    <tr>\n",
              "      <th>0</th>\n",
              "      <td>-122.05</td>\n",
              "      <td>37.37</td>\n",
              "      <td>27.0</td>\n",
              "      <td>3885.0</td>\n",
              "      <td>661.0</td>\n",
              "      <td>1537.0</td>\n",
              "      <td>606.0</td>\n",
              "      <td>6.6085</td>\n",
              "      <td>344700.0</td>\n",
              "    </tr>\n",
              "    <tr>\n",
              "      <th>1</th>\n",
              "      <td>-118.30</td>\n",
              "      <td>34.26</td>\n",
              "      <td>43.0</td>\n",
              "      <td>1510.0</td>\n",
              "      <td>310.0</td>\n",
              "      <td>809.0</td>\n",
              "      <td>277.0</td>\n",
              "      <td>3.5990</td>\n",
              "      <td>176500.0</td>\n",
              "    </tr>\n",
              "    <tr>\n",
              "      <th>2</th>\n",
              "      <td>-117.81</td>\n",
              "      <td>33.78</td>\n",
              "      <td>27.0</td>\n",
              "      <td>3589.0</td>\n",
              "      <td>507.0</td>\n",
              "      <td>1484.0</td>\n",
              "      <td>495.0</td>\n",
              "      <td>5.7934</td>\n",
              "      <td>270500.0</td>\n",
              "    </tr>\n",
              "    <tr>\n",
              "      <th>3</th>\n",
              "      <td>-118.36</td>\n",
              "      <td>33.82</td>\n",
              "      <td>28.0</td>\n",
              "      <td>67.0</td>\n",
              "      <td>15.0</td>\n",
              "      <td>49.0</td>\n",
              "      <td>11.0</td>\n",
              "      <td>6.1359</td>\n",
              "      <td>330000.0</td>\n",
              "    </tr>\n",
              "    <tr>\n",
              "      <th>4</th>\n",
              "      <td>-119.67</td>\n",
              "      <td>36.33</td>\n",
              "      <td>19.0</td>\n",
              "      <td>1241.0</td>\n",
              "      <td>244.0</td>\n",
              "      <td>850.0</td>\n",
              "      <td>237.0</td>\n",
              "      <td>2.9375</td>\n",
              "      <td>81700.0</td>\n",
              "    </tr>\n",
              "  </tbody>\n",
              "</table>\n",
              "</div>"
            ],
            "text/plain": [
              "   longitude  latitude  ...  median_income  median_house_value\n",
              "0    -122.05     37.37  ...         6.6085            344700.0\n",
              "1    -118.30     34.26  ...         3.5990            176500.0\n",
              "2    -117.81     33.78  ...         5.7934            270500.0\n",
              "3    -118.36     33.82  ...         6.1359            330000.0\n",
              "4    -119.67     36.33  ...         2.9375             81700.0\n",
              "\n",
              "[5 rows x 9 columns]"
            ]
          },
          "metadata": {
            "tags": []
          },
          "execution_count": 10
        }
      ]
    },
    {
      "cell_type": "markdown",
      "metadata": {
        "id": "IPklRBh8qTEi",
        "colab_type": "text"
      },
      "source": [
        "Extract several columns into Python 'arrays' (raw lists)"
      ]
    },
    {
      "cell_type": "code",
      "metadata": {
        "id": "kM559fJ7nmEY",
        "colab_type": "code",
        "colab": {}
      },
      "source": [
        "median_age = df['housing_median_age'].tolist()\n",
        "total_bedrooms = df['total_bedrooms'].tolist()\n",
        "housing_value = df['median_house_value'].tolist()\n",
        "population = df['population'].tolist()\n",
        "med_income = df['median_income'].tolist()"
      ],
      "execution_count": 11,
      "outputs": []
    },
    {
      "cell_type": "markdown",
      "metadata": {
        "id": "Ar2RjKAtqd8Z",
        "colab_type": "text"
      },
      "source": [
        "Instantiate new instance of statools.tools"
      ]
    },
    {
      "cell_type": "code",
      "metadata": {
        "id": "27QlseqqoLhc",
        "colab_type": "code",
        "colab": {}
      },
      "source": [
        "real_data = st.DataSet([median_age, total_bedrooms, housing_value, population, med_income],\n",
        "                       ['median_age', 'total_bedrooms', 'housing_value', 'population', 'median_income'])"
      ],
      "execution_count": 12,
      "outputs": []
    },
    {
      "cell_type": "markdown",
      "metadata": {
        "id": "y2dkoMRRqpZ-",
        "colab_type": "text"
      },
      "source": [
        "COnvert back to Pandas DataFrame"
      ]
    },
    {
      "cell_type": "code",
      "metadata": {
        "id": "swwSvi_DpA6_",
        "colab_type": "code",
        "colab": {
          "base_uri": "https://localhost:8080/",
          "height": 191
        },
        "outputId": "a74d9d2d-815a-4f2f-ff29-828d3afc7996"
      },
      "source": [
        "df2 = real_data.get_dataframe()\n",
        "df2.head()"
      ],
      "execution_count": 13,
      "outputs": [
        {
          "output_type": "execute_result",
          "data": {
            "text/html": [
              "<div>\n",
              "<style scoped>\n",
              "    .dataframe tbody tr th:only-of-type {\n",
              "        vertical-align: middle;\n",
              "    }\n",
              "\n",
              "    .dataframe tbody tr th {\n",
              "        vertical-align: top;\n",
              "    }\n",
              "\n",
              "    .dataframe thead th {\n",
              "        text-align: right;\n",
              "    }\n",
              "</style>\n",
              "<table border=\"1\" class=\"dataframe\">\n",
              "  <thead>\n",
              "    <tr style=\"text-align: right;\">\n",
              "      <th></th>\n",
              "      <th>median_age</th>\n",
              "      <th>total_bedrooms</th>\n",
              "      <th>housing_value</th>\n",
              "      <th>population</th>\n",
              "      <th>median_income</th>\n",
              "    </tr>\n",
              "  </thead>\n",
              "  <tbody>\n",
              "    <tr>\n",
              "      <th>0</th>\n",
              "      <td>27.0</td>\n",
              "      <td>661.0</td>\n",
              "      <td>344700.0</td>\n",
              "      <td>1537.0</td>\n",
              "      <td>6.6085</td>\n",
              "    </tr>\n",
              "    <tr>\n",
              "      <th>1</th>\n",
              "      <td>43.0</td>\n",
              "      <td>310.0</td>\n",
              "      <td>176500.0</td>\n",
              "      <td>809.0</td>\n",
              "      <td>3.5990</td>\n",
              "    </tr>\n",
              "    <tr>\n",
              "      <th>2</th>\n",
              "      <td>27.0</td>\n",
              "      <td>507.0</td>\n",
              "      <td>270500.0</td>\n",
              "      <td>1484.0</td>\n",
              "      <td>5.7934</td>\n",
              "    </tr>\n",
              "    <tr>\n",
              "      <th>3</th>\n",
              "      <td>28.0</td>\n",
              "      <td>15.0</td>\n",
              "      <td>330000.0</td>\n",
              "      <td>49.0</td>\n",
              "      <td>6.1359</td>\n",
              "    </tr>\n",
              "    <tr>\n",
              "      <th>4</th>\n",
              "      <td>19.0</td>\n",
              "      <td>244.0</td>\n",
              "      <td>81700.0</td>\n",
              "      <td>850.0</td>\n",
              "      <td>2.9375</td>\n",
              "    </tr>\n",
              "  </tbody>\n",
              "</table>\n",
              "</div>"
            ],
            "text/plain": [
              "   median_age  total_bedrooms  housing_value  population  median_income\n",
              "0        27.0           661.0       344700.0      1537.0         6.6085\n",
              "1        43.0           310.0       176500.0       809.0         3.5990\n",
              "2        27.0           507.0       270500.0      1484.0         5.7934\n",
              "3        28.0            15.0       330000.0        49.0         6.1359\n",
              "4        19.0           244.0        81700.0       850.0         2.9375"
            ]
          },
          "metadata": {
            "tags": []
          },
          "execution_count": 13
        }
      ]
    },
    {
      "cell_type": "markdown",
      "metadata": {
        "id": "ouwNaFK0qvN9",
        "colab_type": "text"
      },
      "source": [
        "Basic statistics"
      ]
    },
    {
      "cell_type": "code",
      "metadata": {
        "id": "VLE7siYKofBS",
        "colab_type": "code",
        "colab": {
          "base_uri": "https://localhost:8080/",
          "height": 191
        },
        "outputId": "a7e0f934-eb6f-4af0-9f25-8eb72e04eb2c"
      },
      "source": [
        "real_data.statistics()"
      ],
      "execution_count": 14,
      "outputs": [
        {
          "output_type": "execute_result",
          "data": {
            "text/html": [
              "<div>\n",
              "<style scoped>\n",
              "    .dataframe tbody tr th:only-of-type {\n",
              "        vertical-align: middle;\n",
              "    }\n",
              "\n",
              "    .dataframe tbody tr th {\n",
              "        vertical-align: top;\n",
              "    }\n",
              "\n",
              "    .dataframe thead th {\n",
              "        text-align: right;\n",
              "    }\n",
              "</style>\n",
              "<table border=\"1\" class=\"dataframe\">\n",
              "  <thead>\n",
              "    <tr style=\"text-align: right;\">\n",
              "      <th></th>\n",
              "      <th>mean</th>\n",
              "      <th>variance</th>\n",
              "      <th>standard_deviation</th>\n",
              "    </tr>\n",
              "  </thead>\n",
              "  <tbody>\n",
              "    <tr>\n",
              "      <th>median_age</th>\n",
              "      <td>28.845333</td>\n",
              "      <td>1.576380e+02</td>\n",
              "      <td>12.555396</td>\n",
              "    </tr>\n",
              "    <tr>\n",
              "      <th>total_bedrooms</th>\n",
              "      <td>529.950667</td>\n",
              "      <td>1.727686e+05</td>\n",
              "      <td>415.654368</td>\n",
              "    </tr>\n",
              "    <tr>\n",
              "      <th>housing_value</th>\n",
              "      <td>205846.275000</td>\n",
              "      <td>1.279606e+10</td>\n",
              "      <td>113119.687470</td>\n",
              "    </tr>\n",
              "    <tr>\n",
              "      <th>population</th>\n",
              "      <td>1402.798667</td>\n",
              "      <td>1.062019e+06</td>\n",
              "      <td>1030.543012</td>\n",
              "    </tr>\n",
              "    <tr>\n",
              "      <th>median_income</th>\n",
              "      <td>3.807272</td>\n",
              "      <td>3.439214e+00</td>\n",
              "      <td>1.854512</td>\n",
              "    </tr>\n",
              "  </tbody>\n",
              "</table>\n",
              "</div>"
            ],
            "text/plain": [
              "                         mean      variance  standard_deviation\n",
              "median_age          28.845333  1.576380e+02           12.555396\n",
              "total_bedrooms     529.950667  1.727686e+05          415.654368\n",
              "housing_value   205846.275000  1.279606e+10       113119.687470\n",
              "population        1402.798667  1.062019e+06         1030.543012\n",
              "median_income        3.807272  3.439214e+00            1.854512"
            ]
          },
          "metadata": {
            "tags": []
          },
          "execution_count": 14
        }
      ]
    },
    {
      "cell_type": "markdown",
      "metadata": {
        "id": "3rW3XGZlq7jV",
        "colab_type": "text"
      },
      "source": [
        "Compare covariance output with Pandas covariance method"
      ]
    },
    {
      "cell_type": "code",
      "metadata": {
        "id": "qdZYaqWDo6T0",
        "colab_type": "code",
        "colab": {
          "base_uri": "https://localhost:8080/",
          "height": 191
        },
        "outputId": "762e4ec5-5644-4f2b-a270-db2b38746f69"
      },
      "source": [
        "real_data.covariance()"
      ],
      "execution_count": 15,
      "outputs": [
        {
          "output_type": "execute_result",
          "data": {
            "text/html": [
              "<div>\n",
              "<style scoped>\n",
              "    .dataframe tbody tr th:only-of-type {\n",
              "        vertical-align: middle;\n",
              "    }\n",
              "\n",
              "    .dataframe tbody tr th {\n",
              "        vertical-align: top;\n",
              "    }\n",
              "\n",
              "    .dataframe thead th {\n",
              "        text-align: right;\n",
              "    }\n",
              "</style>\n",
              "<table border=\"1\" class=\"dataframe\">\n",
              "  <thead>\n",
              "    <tr style=\"text-align: right;\">\n",
              "      <th></th>\n",
              "      <th>median_age</th>\n",
              "      <th>total_bedrooms</th>\n",
              "      <th>housing_value</th>\n",
              "      <th>population</th>\n",
              "      <th>median_income</th>\n",
              "    </tr>\n",
              "  </thead>\n",
              "  <tbody>\n",
              "    <tr>\n",
              "      <th>median_age</th>\n",
              "      <td>157.637958</td>\n",
              "      <td>-1.686447e+03</td>\n",
              "      <td>1.298250e+05</td>\n",
              "      <td>-3.880217e+03</td>\n",
              "      <td>-3.360256</td>\n",
              "    </tr>\n",
              "    <tr>\n",
              "      <th>total_bedrooms</th>\n",
              "      <td>-1686.447113</td>\n",
              "      <td>1.727686e+05</td>\n",
              "      <td>3.868661e+06</td>\n",
              "      <td>3.668332e+05</td>\n",
              "      <td>18.519657</td>\n",
              "    </tr>\n",
              "    <tr>\n",
              "      <th>housing_value</th>\n",
              "      <td>129825.029543</td>\n",
              "      <td>3.868661e+06</td>\n",
              "      <td>1.279606e+10</td>\n",
              "      <td>-1.389295e+05</td>\n",
              "      <td>141119.191538</td>\n",
              "    </tr>\n",
              "    <tr>\n",
              "      <th>population</th>\n",
              "      <td>-3880.217212</td>\n",
              "      <td>3.668332e+05</td>\n",
              "      <td>-1.389295e+05</td>\n",
              "      <td>1.062019e+06</td>\n",
              "      <td>61.845972</td>\n",
              "    </tr>\n",
              "    <tr>\n",
              "      <th>median_income</th>\n",
              "      <td>-3.360256</td>\n",
              "      <td>1.851966e+01</td>\n",
              "      <td>1.411192e+05</td>\n",
              "      <td>6.184597e+01</td>\n",
              "      <td>3.439214</td>\n",
              "    </tr>\n",
              "  </tbody>\n",
              "</table>\n",
              "</div>"
            ],
            "text/plain": [
              "                   median_age  total_bedrooms  ...    population  median_income\n",
              "median_age         157.637958   -1.686447e+03  ... -3.880217e+03      -3.360256\n",
              "total_bedrooms   -1686.447113    1.727686e+05  ...  3.668332e+05      18.519657\n",
              "housing_value   129825.029543    3.868661e+06  ... -1.389295e+05  141119.191538\n",
              "population       -3880.217212    3.668332e+05  ...  1.062019e+06      61.845972\n",
              "median_income       -3.360256    1.851966e+01  ...  6.184597e+01       3.439214\n",
              "\n",
              "[5 rows x 5 columns]"
            ]
          },
          "metadata": {
            "tags": []
          },
          "execution_count": 15
        }
      ]
    },
    {
      "cell_type": "code",
      "metadata": {
        "id": "0smDAXulpVCd",
        "colab_type": "code",
        "colab": {
          "base_uri": "https://localhost:8080/",
          "height": 191
        },
        "outputId": "8d9d8b61-21fd-48b7-d59c-2abeaa142a1b"
      },
      "source": [
        "df2.cov()"
      ],
      "execution_count": 16,
      "outputs": [
        {
          "output_type": "execute_result",
          "data": {
            "text/html": [
              "<div>\n",
              "<style scoped>\n",
              "    .dataframe tbody tr th:only-of-type {\n",
              "        vertical-align: middle;\n",
              "    }\n",
              "\n",
              "    .dataframe tbody tr th {\n",
              "        vertical-align: top;\n",
              "    }\n",
              "\n",
              "    .dataframe thead th {\n",
              "        text-align: right;\n",
              "    }\n",
              "</style>\n",
              "<table border=\"1\" class=\"dataframe\">\n",
              "  <thead>\n",
              "    <tr style=\"text-align: right;\">\n",
              "      <th></th>\n",
              "      <th>median_age</th>\n",
              "      <th>total_bedrooms</th>\n",
              "      <th>housing_value</th>\n",
              "      <th>population</th>\n",
              "      <th>median_income</th>\n",
              "    </tr>\n",
              "  </thead>\n",
              "  <tbody>\n",
              "    <tr>\n",
              "      <th>median_age</th>\n",
              "      <td>157.637958</td>\n",
              "      <td>-1.686447e+03</td>\n",
              "      <td>1.298250e+05</td>\n",
              "      <td>-3.880217e+03</td>\n",
              "      <td>-3.360256</td>\n",
              "    </tr>\n",
              "    <tr>\n",
              "      <th>total_bedrooms</th>\n",
              "      <td>-1686.447113</td>\n",
              "      <td>1.727686e+05</td>\n",
              "      <td>3.868661e+06</td>\n",
              "      <td>3.668332e+05</td>\n",
              "      <td>18.519657</td>\n",
              "    </tr>\n",
              "    <tr>\n",
              "      <th>housing_value</th>\n",
              "      <td>129825.029543</td>\n",
              "      <td>3.868661e+06</td>\n",
              "      <td>1.279606e+10</td>\n",
              "      <td>-1.389295e+05</td>\n",
              "      <td>141119.191538</td>\n",
              "    </tr>\n",
              "    <tr>\n",
              "      <th>population</th>\n",
              "      <td>-3880.217212</td>\n",
              "      <td>3.668332e+05</td>\n",
              "      <td>-1.389295e+05</td>\n",
              "      <td>1.062019e+06</td>\n",
              "      <td>61.845972</td>\n",
              "    </tr>\n",
              "    <tr>\n",
              "      <th>median_income</th>\n",
              "      <td>-3.360256</td>\n",
              "      <td>1.851966e+01</td>\n",
              "      <td>1.411192e+05</td>\n",
              "      <td>6.184597e+01</td>\n",
              "      <td>3.439214</td>\n",
              "    </tr>\n",
              "  </tbody>\n",
              "</table>\n",
              "</div>"
            ],
            "text/plain": [
              "                   median_age  total_bedrooms  ...    population  median_income\n",
              "median_age         157.637958   -1.686447e+03  ... -3.880217e+03      -3.360256\n",
              "total_bedrooms   -1686.447113    1.727686e+05  ...  3.668332e+05      18.519657\n",
              "housing_value   129825.029543    3.868661e+06  ... -1.389295e+05  141119.191538\n",
              "population       -3880.217212    3.668332e+05  ...  1.062019e+06      61.845972\n",
              "median_income       -3.360256    1.851966e+01  ...  6.184597e+01       3.439214\n",
              "\n",
              "[5 rows x 5 columns]"
            ]
          },
          "metadata": {
            "tags": []
          },
          "execution_count": 16
        }
      ]
    },
    {
      "cell_type": "markdown",
      "metadata": {
        "id": "AmjdGGfBrER1",
        "colab_type": "text"
      },
      "source": [
        "Compare correlation output with Pandas correlation function"
      ]
    },
    {
      "cell_type": "code",
      "metadata": {
        "id": "gr4acAKmpbdl",
        "colab_type": "code",
        "colab": {
          "base_uri": "https://localhost:8080/",
          "height": 191
        },
        "outputId": "f3b00ee8-ef4d-46ee-8513-5f49bc33389a"
      },
      "source": [
        "real_data.correlation()"
      ],
      "execution_count": 17,
      "outputs": [
        {
          "output_type": "execute_result",
          "data": {
            "text/html": [
              "<div>\n",
              "<style scoped>\n",
              "    .dataframe tbody tr th:only-of-type {\n",
              "        vertical-align: middle;\n",
              "    }\n",
              "\n",
              "    .dataframe tbody tr th {\n",
              "        vertical-align: top;\n",
              "    }\n",
              "\n",
              "    .dataframe thead th {\n",
              "        text-align: right;\n",
              "    }\n",
              "</style>\n",
              "<table border=\"1\" class=\"dataframe\">\n",
              "  <thead>\n",
              "    <tr style=\"text-align: right;\">\n",
              "      <th></th>\n",
              "      <th>median_age</th>\n",
              "      <th>total_bedrooms</th>\n",
              "      <th>housing_value</th>\n",
              "      <th>population</th>\n",
              "      <th>median_income</th>\n",
              "    </tr>\n",
              "  </thead>\n",
              "  <tbody>\n",
              "    <tr>\n",
              "      <th>median_age</th>\n",
              "      <td>1.000000</td>\n",
              "      <td>-0.323154</td>\n",
              "      <td>0.091409</td>\n",
              "      <td>-0.299888</td>\n",
              "      <td>-0.144315</td>\n",
              "    </tr>\n",
              "    <tr>\n",
              "      <th>total_bedrooms</th>\n",
              "      <td>-0.323154</td>\n",
              "      <td>1.000000</td>\n",
              "      <td>0.082279</td>\n",
              "      <td>0.856387</td>\n",
              "      <td>0.024025</td>\n",
              "    </tr>\n",
              "    <tr>\n",
              "      <th>housing_value</th>\n",
              "      <td>0.091409</td>\n",
              "      <td>0.082279</td>\n",
              "      <td>1.000000</td>\n",
              "      <td>-0.001192</td>\n",
              "      <td>0.672695</td>\n",
              "    </tr>\n",
              "    <tr>\n",
              "      <th>population</th>\n",
              "      <td>-0.299888</td>\n",
              "      <td>0.856387</td>\n",
              "      <td>-0.001192</td>\n",
              "      <td>1.000000</td>\n",
              "      <td>0.032361</td>\n",
              "    </tr>\n",
              "    <tr>\n",
              "      <th>median_income</th>\n",
              "      <td>-0.144315</td>\n",
              "      <td>0.024025</td>\n",
              "      <td>0.672695</td>\n",
              "      <td>0.032361</td>\n",
              "      <td>1.000000</td>\n",
              "    </tr>\n",
              "  </tbody>\n",
              "</table>\n",
              "</div>"
            ],
            "text/plain": [
              "                median_age  total_bedrooms  ...  population  median_income\n",
              "median_age        1.000000       -0.323154  ...   -0.299888      -0.144315\n",
              "total_bedrooms   -0.323154        1.000000  ...    0.856387       0.024025\n",
              "housing_value     0.091409        0.082279  ...   -0.001192       0.672695\n",
              "population       -0.299888        0.856387  ...    1.000000       0.032361\n",
              "median_income    -0.144315        0.024025  ...    0.032361       1.000000\n",
              "\n",
              "[5 rows x 5 columns]"
            ]
          },
          "metadata": {
            "tags": []
          },
          "execution_count": 17
        }
      ]
    },
    {
      "cell_type": "code",
      "metadata": {
        "id": "-OrQDUQHpkyA",
        "colab_type": "code",
        "colab": {
          "base_uri": "https://localhost:8080/",
          "height": 191
        },
        "outputId": "e48df7fd-debe-42a3-9b3b-e57fe5375cb0"
      },
      "source": [
        "df2.corr()"
      ],
      "execution_count": 18,
      "outputs": [
        {
          "output_type": "execute_result",
          "data": {
            "text/html": [
              "<div>\n",
              "<style scoped>\n",
              "    .dataframe tbody tr th:only-of-type {\n",
              "        vertical-align: middle;\n",
              "    }\n",
              "\n",
              "    .dataframe tbody tr th {\n",
              "        vertical-align: top;\n",
              "    }\n",
              "\n",
              "    .dataframe thead th {\n",
              "        text-align: right;\n",
              "    }\n",
              "</style>\n",
              "<table border=\"1\" class=\"dataframe\">\n",
              "  <thead>\n",
              "    <tr style=\"text-align: right;\">\n",
              "      <th></th>\n",
              "      <th>median_age</th>\n",
              "      <th>total_bedrooms</th>\n",
              "      <th>housing_value</th>\n",
              "      <th>population</th>\n",
              "      <th>median_income</th>\n",
              "    </tr>\n",
              "  </thead>\n",
              "  <tbody>\n",
              "    <tr>\n",
              "      <th>median_age</th>\n",
              "      <td>1.000000</td>\n",
              "      <td>-0.323154</td>\n",
              "      <td>0.091409</td>\n",
              "      <td>-0.299888</td>\n",
              "      <td>-0.144315</td>\n",
              "    </tr>\n",
              "    <tr>\n",
              "      <th>total_bedrooms</th>\n",
              "      <td>-0.323154</td>\n",
              "      <td>1.000000</td>\n",
              "      <td>0.082279</td>\n",
              "      <td>0.856387</td>\n",
              "      <td>0.024025</td>\n",
              "    </tr>\n",
              "    <tr>\n",
              "      <th>housing_value</th>\n",
              "      <td>0.091409</td>\n",
              "      <td>0.082279</td>\n",
              "      <td>1.000000</td>\n",
              "      <td>-0.001192</td>\n",
              "      <td>0.672695</td>\n",
              "    </tr>\n",
              "    <tr>\n",
              "      <th>population</th>\n",
              "      <td>-0.299888</td>\n",
              "      <td>0.856387</td>\n",
              "      <td>-0.001192</td>\n",
              "      <td>1.000000</td>\n",
              "      <td>0.032361</td>\n",
              "    </tr>\n",
              "    <tr>\n",
              "      <th>median_income</th>\n",
              "      <td>-0.144315</td>\n",
              "      <td>0.024025</td>\n",
              "      <td>0.672695</td>\n",
              "      <td>0.032361</td>\n",
              "      <td>1.000000</td>\n",
              "    </tr>\n",
              "  </tbody>\n",
              "</table>\n",
              "</div>"
            ],
            "text/plain": [
              "                median_age  total_bedrooms  ...  population  median_income\n",
              "median_age        1.000000       -0.323154  ...   -0.299888      -0.144315\n",
              "total_bedrooms   -0.323154        1.000000  ...    0.856387       0.024025\n",
              "housing_value     0.091409        0.082279  ...   -0.001192       0.672695\n",
              "population       -0.299888        0.856387  ...    1.000000       0.032361\n",
              "median_income    -0.144315        0.024025  ...    0.032361       1.000000\n",
              "\n",
              "[5 rows x 5 columns]"
            ]
          },
          "metadata": {
            "tags": []
          },
          "execution_count": 18
        }
      ]
    },
    {
      "cell_type": "code",
      "metadata": {
        "id": "L6k6Mm3spoGM",
        "colab_type": "code",
        "colab": {}
      },
      "source": [
        ""
      ],
      "execution_count": null,
      "outputs": []
    }
  ]
}